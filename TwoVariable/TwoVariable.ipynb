{
  "nbformat": 4,
  "nbformat_minor": 0,
  "metadata": {
    "colab": {
      "name": "Untitled1.ipynb",
      "provenance": []
    },
    "kernelspec": {
      "name": "python3",
      "display_name": "Python 3"
    }
  },
  "cells": [
    {
      "cell_type": "code",
      "metadata": {
        "id": "ipLB6K6BA2sS",
        "colab_type": "code",
        "colab": {}
      },
      "source": [
        "%tensorflow_version 2.x\n",
        "\n",
        "import tensorflow as tf\n",
        "import tensorflow_datasets as tfds\n",
        "import tensorflow_hub as hub\n",
        "import numpy as np"
      ],
      "execution_count": 62,
      "outputs": []
    },
    {
      "cell_type": "code",
      "metadata": {
        "id": "hbhMylbEA6ye",
        "colab_type": "code",
        "colab": {}
      },
      "source": [
        "model = tf.keras.Sequential([tf.keras.layers.Dense(units=1, input_shape=[1])])\n",
        "model.compile(optimizer=\"sgd\", loss=\"mean_squared_error\");\n"
      ],
      "execution_count": 63,
      "outputs": []
    },
    {
      "cell_type": "code",
      "metadata": {
        "id": "s7UU2e6RCZ_v",
        "colab_type": "code",
        "colab": {}
      },
      "source": [
        "#y = 2x-1\n",
        "xs = np.array([-1.0, 0.0, 1.0, 2.0, 3.0, 4.0], dtype=float)\n",
        "ys = np.array([-3.0, -1.0, 1.0, 3.0, 5.0, 7.0], dtype=float)\n",
        "\n",
        "#xs = np.array([10, 11, 12, 13, 14, 15, 16, 17, 18, 19, 20, 21, 22], dtype=float)\n",
        "#ys = np.array([62, 61, 60, 59, 58, 57, 56, 55, 54, 53, 52, 51, 50], dtype=float)\n",
        "\n",
        "\n",
        "#xs = np.array([1, 2, 3, 4, 5, 6, 7, 8, 9, 10], dtype=float)\n",
        "#ys = np.array([1, 2, 9, 16, 25, 36, 49, 64, 81, 100], dtype=float)\n"
      ],
      "execution_count": 64,
      "outputs": []
    },
    {
      "cell_type": "code",
      "metadata": {
        "id": "Z0ue3n5KzhGL",
        "colab_type": "code",
        "colab": {}
      },
      "source": [
        ""
      ],
      "execution_count": null,
      "outputs": []
    },
    {
      "cell_type": "code",
      "metadata": {
        "id": "gsebI85xDCyY",
        "colab_type": "code",
        "colab": {
          "base_uri": "https://localhost:8080/",
          "height": 34
        },
        "outputId": "4b699b54-14f8-44ea-846d-adbf722b5722"
      },
      "source": [
        "model.fit(xs, ys , epochs=500, verbose=0)"
      ],
      "execution_count": 67,
      "outputs": [
        {
          "output_type": "execute_result",
          "data": {
            "text/plain": [
              "<tensorflow.python.keras.callbacks.History at 0x7f4d9f486400>"
            ]
          },
          "metadata": {
            "tags": []
          },
          "execution_count": 67
        }
      ]
    },
    {
      "cell_type": "code",
      "metadata": {
        "id": "kLKw2QJ4DWBx",
        "colab_type": "code",
        "colab": {
          "base_uri": "https://localhost:8080/",
          "height": 34
        },
        "outputId": "bca5fb93-57cd-4b5d-d16c-c5440374ebe9"
      },
      "source": [
        "print(model.predict([25]))"
      ],
      "execution_count": 68,
      "outputs": [
        {
          "output_type": "stream",
          "text": [
            "[[48.92919]]\n"
          ],
          "name": "stdout"
        }
      ]
    },
    {
      "cell_type": "code",
      "metadata": {
        "id": "ARAMPw29ziiA",
        "colab_type": "code",
        "colab": {}
      },
      "source": [
        "xs = np.array([10, 11, 12, 13, 14, 15, 16, 17, 18, 19, 20, 21, 22], dtype=float)\n",
        "ys = np.array([62, 61, 60, 59, 58, 57, 56, 55, 54, 53, 52, 51, 50], dtype=float)\n"
      ],
      "execution_count": 73,
      "outputs": []
    },
    {
      "cell_type": "code",
      "metadata": {
        "id": "H4uQRRwI0XkL",
        "colab_type": "code",
        "colab": {
          "base_uri": "https://localhost:8080/",
          "height": 34
        },
        "outputId": "639d627b-66e8-4a7e-e4ce-094ea506dd2c"
      },
      "source": [
        "model.fit( xs,ys,epochs=500, verbose=0)\n"
      ],
      "execution_count": 74,
      "outputs": [
        {
          "output_type": "execute_result",
          "data": {
            "text/plain": [
              "<tensorflow.python.keras.callbacks.History at 0x7f4d9ec28da0>"
            ]
          },
          "metadata": {
            "tags": []
          },
          "execution_count": 74
        }
      ]
    },
    {
      "cell_type": "code",
      "metadata": {
        "id": "6K8yC-Fe0ZB4",
        "colab_type": "code",
        "colab": {
          "base_uri": "https://localhost:8080/",
          "height": 34
        },
        "outputId": "be83d437-f06f-4bdc-e396-ec75a5d98fcf"
      },
      "source": [
        "print(model.predict([25]))"
      ],
      "execution_count": 76,
      "outputs": [
        {
          "output_type": "stream",
          "text": [
            "[[nan]]\n"
          ],
          "name": "stdout"
        }
      ]
    }
  ]
}